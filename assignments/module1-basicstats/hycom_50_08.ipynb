{
 "cells": [
  {
   "cell_type": "code",
   "execution_count": 1,
   "metadata": {
    "collapsed": true
   },
   "outputs": [],
   "source": [
    "import netCDF4\n",
    "import numpy as np"
   ]
  },
  {
   "cell_type": "code",
   "execution_count": 2,
   "metadata": {
    "collapsed": true
   },
   "outputs": [],
   "source": [
    "f_10=netCDF4.Dataset('/Users/Star/Desktop/PC_stuff/GOM_ensemble/008/archm.2010_131_12.nc')\n",
    "f_20=netCDF4.Dataset('/Users/Star/Desktop/PC_stuff/GOM_ensemble/008/archm.2010_141_12.nc')\n",
    "f_30=netCDF4.Dataset('/Users/Star/Desktop/PC_stuff/GOM_ensemble/008/archm.2010_151_12.nc')"
   ]
  },
  {
   "cell_type": "code",
   "execution_count": 3,
   "metadata": {},
   "outputs": [
    {
     "name": "stdout",
     "output_type": "stream",
     "text": [
      "OrderedDict([('X', <class 'netCDF4._netCDF4.Variable'>\n",
      "int32 X(X)\n",
      "unlimited dimensions: \n",
      "current shape = (541,)\n",
      "filling off\n",
      "), ('Y', <class 'netCDF4._netCDF4.Variable'>\n",
      "int32 Y(Y)\n",
      "unlimited dimensions: \n",
      "current shape = (385,)\n",
      "filling off\n",
      "), ('layer_sigma', <class 'netCDF4._netCDF4.Variable'>\n",
      "float32 layer_sigma(layer_sigma)\n",
      "unlimited dimensions: \n",
      "current shape = (20,)\n",
      "filling off\n",
      "), ('time', <class 'netCDF4._netCDF4.Variable'>\n",
      "float32 time(time)\n",
      "unlimited dimensions: \n",
      "current shape = (1,)\n",
      "filling off\n",
      "), ('plongitude', <class 'netCDF4._netCDF4.Variable'>\n",
      "float32 plongitude(Y, X)\n",
      "unlimited dimensions: \n",
      "current shape = (385, 541)\n",
      "filling off\n",
      "), ('platitude', <class 'netCDF4._netCDF4.Variable'>\n",
      "float32 platitude(Y, X)\n",
      "unlimited dimensions: \n",
      "current shape = (385, 541)\n",
      "filling off\n",
      "), ('ulongitude', <class 'netCDF4._netCDF4.Variable'>\n",
      "float32 ulongitude(Y, X)\n",
      "unlimited dimensions: \n",
      "current shape = (385, 541)\n",
      "filling off\n",
      "), ('ulatitude', <class 'netCDF4._netCDF4.Variable'>\n",
      "float32 ulatitude(Y, X)\n",
      "unlimited dimensions: \n",
      "current shape = (385, 541)\n",
      "filling off\n",
      "), ('vlongitude', <class 'netCDF4._netCDF4.Variable'>\n",
      "float32 vlongitude(Y, X)\n",
      "unlimited dimensions: \n",
      "current shape = (385, 541)\n",
      "filling off\n",
      "), ('vlatitude', <class 'netCDF4._netCDF4.Variable'>\n",
      "float32 vlatitude(Y, X)\n",
      "unlimited dimensions: \n",
      "current shape = (385, 541)\n",
      "filling off\n",
      "), ('montg1', <class 'netCDF4._netCDF4.Variable'>\n",
      "float32 montg1(Y, X)\n",
      "    _FillValue: 1.26765e+30\n",
      "unlimited dimensions: \n",
      "current shape = (385, 541)\n",
      "filling off\n",
      "), ('ssh', <class 'netCDF4._netCDF4.Variable'>\n",
      "float32 ssh(Y, X)\n",
      "    _FillValue: 1.26765e+30\n",
      "unlimited dimensions: \n",
      "current shape = (385, 541)\n",
      "filling off\n",
      "), ('surflx', <class 'netCDF4._netCDF4.Variable'>\n",
      "float32 surflx(Y, X)\n",
      "    _FillValue: 1.26765e+30\n",
      "unlimited dimensions: \n",
      "current shape = (385, 541)\n",
      "filling off\n",
      "), ('salflx', <class 'netCDF4._netCDF4.Variable'>\n",
      "float32 salflx(Y, X)\n",
      "    _FillValue: 1.26765e+30\n",
      "unlimited dimensions: \n",
      "current shape = (385, 541)\n",
      "filling off\n",
      "), ('dpbl', <class 'netCDF4._netCDF4.Variable'>\n",
      "float32 dpbl(Y, X)\n",
      "    _FillValue: 1.26765e+30\n",
      "unlimited dimensions: \n",
      "current shape = (385, 541)\n",
      "filling off\n",
      "), ('dpmixl', <class 'netCDF4._netCDF4.Variable'>\n",
      "float32 dpmixl(Y, X)\n",
      "    _FillValue: 1.26765e+30\n",
      "unlimited dimensions: \n",
      "current shape = (385, 541)\n",
      "filling off\n",
      "), ('tmix', <class 'netCDF4._netCDF4.Variable'>\n",
      "float32 tmix(Y, X)\n",
      "    _FillValue: 1.26765e+30\n",
      "unlimited dimensions: \n",
      "current shape = (385, 541)\n",
      "filling off\n",
      "), ('smix', <class 'netCDF4._netCDF4.Variable'>\n",
      "float32 smix(Y, X)\n",
      "    _FillValue: 1.26765e+30\n",
      "unlimited dimensions: \n",
      "current shape = (385, 541)\n",
      "filling off\n",
      "), ('umix', <class 'netCDF4._netCDF4.Variable'>\n",
      "float32 umix(Y, X)\n",
      "    _FillValue: 1.26765e+30\n",
      "unlimited dimensions: \n",
      "current shape = (385, 541)\n",
      "filling off\n",
      "), ('vmix', <class 'netCDF4._netCDF4.Variable'>\n",
      "float32 vmix(Y, X)\n",
      "    _FillValue: 1.26765e+30\n",
      "unlimited dimensions: \n",
      "current shape = (385, 541)\n",
      "filling off\n",
      "), ('ubaro', <class 'netCDF4._netCDF4.Variable'>\n",
      "float32 ubaro(Y, X)\n",
      "    _FillValue: 1.26765e+30\n",
      "unlimited dimensions: \n",
      "current shape = (385, 541)\n",
      "filling off\n",
      "), ('vbaro', <class 'netCDF4._netCDF4.Variable'>\n",
      "float32 vbaro(Y, X)\n",
      "    _FillValue: 1.26765e+30\n",
      "unlimited dimensions: \n",
      "current shape = (385, 541)\n",
      "filling off\n",
      "), ('u', <class 'netCDF4._netCDF4.Variable'>\n",
      "float32 u(time, layer_sigma, Y, X)\n",
      "    _FillValue: 1.26765e+30\n",
      "unlimited dimensions: \n",
      "current shape = (1, 20, 385, 541)\n",
      "filling off\n",
      "), ('v', <class 'netCDF4._netCDF4.Variable'>\n",
      "float32 v(time, layer_sigma, Y, X)\n",
      "    _FillValue: 1.26765e+30\n",
      "unlimited dimensions: \n",
      "current shape = (1, 20, 385, 541)\n",
      "filling off\n",
      "), ('dp', <class 'netCDF4._netCDF4.Variable'>\n",
      "float32 dp(time, layer_sigma, Y, X)\n",
      "    _FillValue: 1.26765e+30\n",
      "unlimited dimensions: \n",
      "current shape = (1, 20, 385, 541)\n",
      "filling off\n",
      "), ('temp', <class 'netCDF4._netCDF4.Variable'>\n",
      "float32 temp(time, layer_sigma, Y, X)\n",
      "    _FillValue: 1.26765e+30\n",
      "unlimited dimensions: \n",
      "current shape = (1, 20, 385, 541)\n",
      "filling off\n",
      "), ('saln', <class 'netCDF4._netCDF4.Variable'>\n",
      "float32 saln(time, layer_sigma, Y, X)\n",
      "    _FillValue: 1.26765e+30\n",
      "unlimited dimensions: \n",
      "current shape = (1, 20, 385, 541)\n",
      "filling off\n",
      "), ('th3d', <class 'netCDF4._netCDF4.Variable'>\n",
      "float32 th3d(time, layer_sigma, Y, X)\n",
      "    _FillValue: 1.26765e+30\n",
      "unlimited dimensions: \n",
      "current shape = (1, 20, 385, 541)\n",
      "filling off\n",
      ")])\n"
     ]
    }
   ],
   "source": [
    "print(f_30.variables)"
   ]
  },
  {
   "cell_type": "code",
   "execution_count": 4,
   "metadata": {
    "collapsed": true
   },
   "outputs": [],
   "source": [
    "ssh_10=f_10.variables['ssh']\n",
    "ssh_20=f_20.variables['ssh']\n",
    "ssh_30=f_30.variables['ssh']"
   ]
  },
  {
   "cell_type": "code",
   "execution_count": 10,
   "metadata": {},
   "outputs": [
    {
     "data": {
      "text/plain": [
       "Text(0.5,1,'08, day 10')"
      ]
     },
     "execution_count": 10,
     "metadata": {},
     "output_type": "execute_result"
    },
    {
     "data": {
      "image/png": "[encoded data removed]",
      "text/plain": [
       "<matplotlib.figure.Figure at 0x10b42ce48>"
      ]
     },
     "metadata": {},
     "output_type": "display_data"
    }
   ],
   "source": [
    "import matplotlib.pyplot as plt\n",
    "%matplotlib inline\n",
    "ssh_contour_10=plt.contourf(ssh_10[:,:],15)\n",
    "bar=plt.colorbar()\n",
    "plt.title('08, day 10')"
   ]
  },
  {
   "cell_type": "code",
   "execution_count": 7,
   "metadata": {},
   "outputs": [
    {
     "data": {
      "text/plain": [
       "Text(0.5,1,'08, day 20')"
      ]
     },
     "execution_count": 7,
     "metadata": {},
     "output_type": "execute_result"
    },
    {
     "data": {
      "image/png": "[encoded data removed]",
      "text/plain": [
       "<matplotlib.figure.Figure at 0x112006c50>"
      ]
     },
     "metadata": {},
     "output_type": "display_data"
    }
   ],
   "source": [
    "ssh_contour_20=plt.contourf(ssh_20[:,:])\n",
    "bar=plt.colorbar(ssh_contour_10)\n",
    "plt.title('08, day 20')"
   ]
  },
  {
   "cell_type": "code",
   "execution_count": 12,
   "metadata": {},
   "outputs": [
    {
     "data": {
      "text/plain": [
       "Text(0.5,1,'08, day 30')"
      ]
     },
     "execution_count": 12,
     "metadata": {},
     "output_type": "execute_result"
    },
    {
     "data": {
      "image/png": "[encoded data removed]",
      "text/plain": [
       "<matplotlib.figure.Figure at 0x1164dde10>"
      ]
     },
     "metadata": {},
     "output_type": "display_data"
    }
   ],
   "source": [
    "ssh_contour_30=plt.contourf(ssh_30[:,:],10)\n",
    "bar=plt.colorbar(ssh_contour_10)\n",
    "plt.title('08, day 30')"
   ]
  },
  {
   "cell_type": "code",
   "execution_count": null,
   "metadata": {
    "collapsed": true
   },
   "outputs": [],
   "source": []
  }
 ],
 "metadata": {
  "kernelspec": {
   "display_name": "Python 3",
   "language": "python",
   "name": "python3"
  },
  "language_info": {
   "codemirror_mode": {
    "name": "ipython",
    "version": 3
   },
   "file_extension": ".py",
   "mimetype": "text/x-python",
   "name": "python",
   "nbconvert_exporter": "python",
   "pygments_lexer": "ipython3",
   "version": "3.6.3"
  }
 },
 "nbformat": 4,
 "nbformat_minor": 2
}
