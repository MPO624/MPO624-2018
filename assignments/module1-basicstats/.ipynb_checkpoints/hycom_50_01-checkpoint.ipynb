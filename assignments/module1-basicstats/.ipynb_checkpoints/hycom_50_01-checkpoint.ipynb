{
 "cells": [
  {
   "cell_type": "code",
   "execution_count": 1,
   "metadata": {
    "collapsed": true
   },
   "outputs": [],
   "source": [
    "import netCDF4"
   ]
  },
  {
   "cell_type": "code",
   "execution_count": 2,
   "metadata": {
    "collapsed": true
   },
   "outputs": [],
   "source": [
    "import numpy as np"
   ]
  },
  {
   "cell_type": "code",
   "execution_count": 20,
   "metadata": {
    "collapsed": true
   },
   "outputs": [],
   "source": [
    "f_10=netCDF4.Dataset('/Users/Star/Desktop/PC_stuff/GOM_ensemble/001/archm.2010_131_12.nc')\n",
    "f_20=netCDF4.Dataset('/Users/Star/Desktop/PC_stuff/GOM_ensemble/001/archm.2010_141_12.nc')\n",
    "f_30=netCDF4.Dataset('/Users/Star/Desktop/PC_stuff/GOM_ensemble/001/archm.2010_151_12.nc')"
   ]
  },
  {
   "cell_type": "code",
   "execution_count": 21,
   "metadata": {},
   "outputs": [
    {
     "name": "stdout",
     "output_type": "stream",
     "text": [
      "OrderedDict([('X', <class 'netCDF4._netCDF4.Variable'>\n",
      "int32 X(X)\n",
      "unlimited dimensions: \n",
      "current shape = (541,)\n",
      "filling off\n",
      "), ('Y', <class 'netCDF4._netCDF4.Variable'>\n",
      "int32 Y(Y)\n",
      "unlimited dimensions: \n",
      "current shape = (385,)\n",
      "filling off\n",
      "), ('layer_sigma', <class 'netCDF4._netCDF4.Variable'>\n",
      "float32 layer_sigma(layer_sigma)\n",
      "unlimited dimensions: \n",
      "current shape = (20,)\n",
      "filling off\n",
      "), ('time', <class 'netCDF4._netCDF4.Variable'>\n",
      "float32 time(time)\n",
      "unlimited dimensions: \n",
      "current shape = (1,)\n",
      "filling off\n",
      "), ('plongitude', <class 'netCDF4._netCDF4.Variable'>\n",
      "float32 plongitude(Y, X)\n",
      "unlimited dimensions: \n",
      "current shape = (385, 541)\n",
      "filling off\n",
      "), ('platitude', <class 'netCDF4._netCDF4.Variable'>\n",
      "float32 platitude(Y, X)\n",
      "unlimited dimensions: \n",
      "current shape = (385, 541)\n",
      "filling off\n",
      "), ('ulongitude', <class 'netCDF4._netCDF4.Variable'>\n",
      "float32 ulongitude(Y, X)\n",
      "unlimited dimensions: \n",
      "current shape = (385, 541)\n",
      "filling off\n",
      "), ('ulatitude', <class 'netCDF4._netCDF4.Variable'>\n",
      "float32 ulatitude(Y, X)\n",
      "unlimited dimensions: \n",
      "current shape = (385, 541)\n",
      "filling off\n",
      "), ('vlongitude', <class 'netCDF4._netCDF4.Variable'>\n",
      "float32 vlongitude(Y, X)\n",
      "unlimited dimensions: \n",
      "current shape = (385, 541)\n",
      "filling off\n",
      "), ('vlatitude', <class 'netCDF4._netCDF4.Variable'>\n",
      "float32 vlatitude(Y, X)\n",
      "unlimited dimensions: \n",
      "current shape = (385, 541)\n",
      "filling off\n",
      "), ('montg1', <class 'netCDF4._netCDF4.Variable'>\n",
      "float32 montg1(Y, X)\n",
      "    _FillValue: 1.26765e+30\n",
      "unlimited dimensions: \n",
      "current shape = (385, 541)\n",
      "filling off\n",
      "), ('ssh', <class 'netCDF4._netCDF4.Variable'>\n",
      "float32 ssh(Y, X)\n",
      "    _FillValue: 1.26765e+30\n",
      "unlimited dimensions: \n",
      "current shape = (385, 541)\n",
      "filling off\n",
      "), ('surflx', <class 'netCDF4._netCDF4.Variable'>\n",
      "float32 surflx(Y, X)\n",
      "    _FillValue: 1.26765e+30\n",
      "unlimited dimensions: \n",
      "current shape = (385, 541)\n",
      "filling off\n",
      "), ('salflx', <class 'netCDF4._netCDF4.Variable'>\n",
      "float32 salflx(Y, X)\n",
      "    _FillValue: 1.26765e+30\n",
      "unlimited dimensions: \n",
      "current shape = (385, 541)\n",
      "filling off\n",
      "), ('dpbl', <class 'netCDF4._netCDF4.Variable'>\n",
      "float32 dpbl(Y, X)\n",
      "    _FillValue: 1.26765e+30\n",
      "unlimited dimensions: \n",
      "current shape = (385, 541)\n",
      "filling off\n",
      "), ('dpmixl', <class 'netCDF4._netCDF4.Variable'>\n",
      "float32 dpmixl(Y, X)\n",
      "    _FillValue: 1.26765e+30\n",
      "unlimited dimensions: \n",
      "current shape = (385, 541)\n",
      "filling off\n",
      "), ('tmix', <class 'netCDF4._netCDF4.Variable'>\n",
      "float32 tmix(Y, X)\n",
      "    _FillValue: 1.26765e+30\n",
      "unlimited dimensions: \n",
      "current shape = (385, 541)\n",
      "filling off\n",
      "), ('smix', <class 'netCDF4._netCDF4.Variable'>\n",
      "float32 smix(Y, X)\n",
      "    _FillValue: 1.26765e+30\n",
      "unlimited dimensions: \n",
      "current shape = (385, 541)\n",
      "filling off\n",
      "), ('umix', <class 'netCDF4._netCDF4.Variable'>\n",
      "float32 umix(Y, X)\n",
      "    _FillValue: 1.26765e+30\n",
      "unlimited dimensions: \n",
      "current shape = (385, 541)\n",
      "filling off\n",
      "), ('vmix', <class 'netCDF4._netCDF4.Variable'>\n",
      "float32 vmix(Y, X)\n",
      "    _FillValue: 1.26765e+30\n",
      "unlimited dimensions: \n",
      "current shape = (385, 541)\n",
      "filling off\n",
      "), ('ubaro', <class 'netCDF4._netCDF4.Variable'>\n",
      "float32 ubaro(Y, X)\n",
      "    _FillValue: 1.26765e+30\n",
      "unlimited dimensions: \n",
      "current shape = (385, 541)\n",
      "filling off\n",
      "), ('vbaro', <class 'netCDF4._netCDF4.Variable'>\n",
      "float32 vbaro(Y, X)\n",
      "    _FillValue: 1.26765e+30\n",
      "unlimited dimensions: \n",
      "current shape = (385, 541)\n",
      "filling off\n",
      "), ('u', <class 'netCDF4._netCDF4.Variable'>\n",
      "float32 u(time, layer_sigma, Y, X)\n",
      "    _FillValue: 1.26765e+30\n",
      "unlimited dimensions: \n",
      "current shape = (1, 20, 385, 541)\n",
      "filling off\n",
      "), ('v', <class 'netCDF4._netCDF4.Variable'>\n",
      "float32 v(time, layer_sigma, Y, X)\n",
      "    _FillValue: 1.26765e+30\n",
      "unlimited dimensions: \n",
      "current shape = (1, 20, 385, 541)\n",
      "filling off\n",
      "), ('dp', <class 'netCDF4._netCDF4.Variable'>\n",
      "float32 dp(time, layer_sigma, Y, X)\n",
      "    _FillValue: 1.26765e+30\n",
      "unlimited dimensions: \n",
      "current shape = (1, 20, 385, 541)\n",
      "filling off\n",
      "), ('temp', <class 'netCDF4._netCDF4.Variable'>\n",
      "float32 temp(time, layer_sigma, Y, X)\n",
      "    _FillValue: 1.26765e+30\n",
      "unlimited dimensions: \n",
      "current shape = (1, 20, 385, 541)\n",
      "filling off\n",
      "), ('saln', <class 'netCDF4._netCDF4.Variable'>\n",
      "float32 saln(time, layer_sigma, Y, X)\n",
      "    _FillValue: 1.26765e+30\n",
      "unlimited dimensions: \n",
      "current shape = (1, 20, 385, 541)\n",
      "filling off\n",
      "), ('th3d', <class 'netCDF4._netCDF4.Variable'>\n",
      "float32 th3d(time, layer_sigma, Y, X)\n",
      "    _FillValue: 1.26765e+30\n",
      "unlimited dimensions: \n",
      "current shape = (1, 20, 385, 541)\n",
      "filling off\n",
      ")])\n"
     ]
    }
   ],
   "source": [
    "print(f_30.variables)"
   ]
  },
  {
   "cell_type": "code",
   "execution_count": 9,
   "metadata": {},
   "outputs": [
    {
     "name": "stdout",
     "output_type": "stream",
     "text": [
      "Variable   Type        Data/Info\n",
      "--------------------------------\n",
      "f          Dataset     <class 'netCDF4._netCDF4.<...>igma,Y,X)\\n    groups: \\n\n",
      "netCDF4    module      <module 'netCDF4' from '/<...>ges/netCDF4/__init__.py'>\n",
      "np         module      <module 'numpy' from '/Us<...>kages/numpy/__init__.py'>\n",
      "ssh        Variable    <class 'netCDF4._netCDF4.<...>(385, 541)\\nfilling off\\n\n"
     ]
    }
   ],
   "source": [
    "whos"
   ]
  },
  {
   "cell_type": "code",
   "execution_count": 22,
   "metadata": {
    "collapsed": true
   },
   "outputs": [],
   "source": [
    "ssh_10=f_10.variables['ssh']\n",
    "ssh_20=f_20.variables['ssh']\n",
    "ssh_30=f_30.variables['ssh']"
   ]
  },
  {
   "cell_type": "code",
   "execution_count": 58,
   "metadata": {},
   "outputs": [
    {
     "name": "stdout",
     "output_type": "stream",
     "text": [
      "[  1   2   3   4   5   6   7   8   9  10  11  12  13  14  15  16  17  18\n",
      "  19  20  21  22  23  24  25  26  27  28  29  30  31  32  33  34  35  36\n",
      "  37  38  39  40  41  42  43  44  45  46  47  48  49  50  51  52  53  54\n",
      "  55  56  57  58  59  60  61  62  63  64  65  66  67  68  69  70  71  72\n",
      "  73  74  75  76  77  78  79  80  81  82  83  84  85  86  87  88  89  90\n",
      "  91  92  93  94  95  96  97  98  99 100 101 102 103 104 105 106 107 108\n",
      " 109 110 111 112 113 114 115 116 117 118 119 120 121 122 123 124 125 126\n",
      " 127 128 129 130 131 132 133 134 135 136 137 138 139 140 141 142 143 144\n",
      " 145 146 147 148 149 150 151 152 153 154 155 156 157 158 159 160 161 162\n",
      " 163 164 165 166 167 168 169 170 171 172 173 174 175 176 177 178 179 180\n",
      " 181 182 183 184 185 186 187 188 189 190 191 192 193 194 195 196 197 198\n",
      " 199 200 201 202 203 204 205 206 207 208 209 210 211 212 213 214 215 216\n",
      " 217 218 219 220 221 222 223 224 225 226 227 228 229 230 231 232 233 234\n",
      " 235 236 237 238 239 240 241 242 243 244 245 246 247 248 249 250 251 252\n",
      " 253 254 255 256 257 258 259 260 261 262 263 264 265 266 267 268 269 270\n",
      " 271 272 273 274 275 276 277 278 279 280 281 282 283 284 285 286 287 288\n",
      " 289 290 291 292 293 294 295 296 297 298 299 300 301 302 303 304 305 306\n",
      " 307 308 309 310 311 312 313 314 315 316 317 318 319 320 321 322 323 324\n",
      " 325 326 327 328 329 330 331 332 333 334 335 336 337 338 339 340 341 342\n",
      " 343 344 345 346 347 348 349 350 351 352 353 354 355 356 357 358 359 360\n",
      " 361 362 363 364 365 366 367 368 369 370 371 372 373 374 375 376 377 378\n",
      " 379 380 381 382 383 384 385 386 387 388 389 390 391 392 393 394 395 396\n",
      " 397 398 399 400 401 402 403 404 405 406 407 408 409 410 411 412 413 414\n",
      " 415 416 417 418 419 420 421 422 423 424 425 426 427 428 429 430 431 432\n",
      " 433 434 435 436 437 438 439 440 441 442 443 444 445 446 447 448 449 450\n",
      " 451 452 453 454 455 456 457 458 459 460 461 462 463 464 465 466 467 468\n",
      " 469 470 471 472 473 474 475 476 477 478 479 480 481 482 483 484 485 486\n",
      " 487 488 489 490 491 492 493 494 495 496 497 498 499 500 501 502 503 504\n",
      " 505 506 507 508 509 510 511 512 513 514 515 516 517 518 519 520 521 522\n",
      " 523 524 525 526 527 528 529 530 531 532 533 534 535 536 537 538 539 540\n",
      " 541] [  1   2   3   4   5   6   7   8   9  10  11  12  13  14  15  16  17  18\n",
      "  19  20  21  22  23  24  25  26  27  28  29  30  31  32  33  34  35  36\n",
      "  37  38  39  40  41  42  43  44  45  46  47  48  49  50  51  52  53  54\n",
      "  55  56  57  58  59  60  61  62  63  64  65  66  67  68  69  70  71  72\n",
      "  73  74  75  76  77  78  79  80  81  82  83  84  85  86  87  88  89  90\n",
      "  91  92  93  94  95  96  97  98  99 100 101 102 103 104 105 106 107 108\n",
      " 109 110 111 112 113 114 115 116 117 118 119 120 121 122 123 124 125 126\n",
      " 127 128 129 130 131 132 133 134 135 136 137 138 139 140 141 142 143 144\n",
      " 145 146 147 148 149 150 151 152 153 154 155 156 157 158 159 160 161 162\n",
      " 163 164 165 166 167 168 169 170 171 172 173 174 175 176 177 178 179 180\n",
      " 181 182 183 184 185 186 187 188 189 190 191 192 193 194 195 196 197 198\n",
      " 199 200 201 202 203 204 205 206 207 208 209 210 211 212 213 214 215 216\n",
      " 217 218 219 220 221 222 223 224 225 226 227 228 229 230 231 232 233 234\n",
      " 235 236 237 238 239 240 241 242 243 244 245 246 247 248 249 250 251 252\n",
      " 253 254 255 256 257 258 259 260 261 262 263 264 265 266 267 268 269 270\n",
      " 271 272 273 274 275 276 277 278 279 280 281 282 283 284 285 286 287 288\n",
      " 289 290 291 292 293 294 295 296 297 298 299 300 301 302 303 304 305 306\n",
      " 307 308 309 310 311 312 313 314 315 316 317 318 319 320 321 322 323 324\n",
      " 325 326 327 328 329 330 331 332 333 334 335 336 337 338 339 340 341 342\n",
      " 343 344 345 346 347 348 349 350 351 352 353 354 355 356 357 358 359 360\n",
      " 361 362 363 364 365 366 367 368 369 370 371 372 373 374 375 376 377 378\n",
      " 379 380 381 382 383 384 385]\n"
     ]
    }
   ],
   "source": [
    "lat=f_10.variables['Y'][:]\n",
    "lon=f_10.variables['X'][:]\n",
    "print(lon,lat)"
   ]
  },
  {
   "cell_type": "code",
   "execution_count": 91,
   "metadata": {},
   "outputs": [
    {
     "data": {
      "text/plain": [
       "Text(0.5,1,'01, day 10')"
      ]
     },
     "execution_count": 91,
     "metadata": {},
     "output_type": "execute_result"
    },
    {
     "data": {
      "image/png": "[encoded data removed]",
      "text/plain": [
       "<matplotlib.figure.Figure at 0x123f59438>"
      ]
     },
     "metadata": {},
     "output_type": "display_data"
    }
   ],
   "source": [
    "import matplotlib.pyplot as plt\n",
    "%matplotlib inline\n",
    "ssh_contour_10=plt.contourf(ssh_10[:,:])\n",
    "bar=plt.colorbar()\n",
    "plt.title('01, day 10')"
   ]
  },
  {
   "cell_type": "code",
   "execution_count": 94,
   "metadata": {},
   "outputs": [
    {
     "data": {
      "text/plain": [
       "Text(0.5,1,'01, day 20')"
      ]
     },
     "execution_count": 94,
     "metadata": {},
     "output_type": "execute_result"
    },
    {
     "data": {
      "image/png": "[encoded data removed]",
      "text/plain": [
       "<matplotlib.figure.Figure at 0x120cc7390>"
      ]
     },
     "metadata": {},
     "output_type": "display_data"
    }
   ],
   "source": [
    "ssh_contour_20=plt.contourf(ssh_20[:,:])\n",
    "bar=plt.colorbar(ssh_contour_10)\n",
    "plt.title('01, day 20')"
   ]
  },
  {
   "cell_type": "code",
   "execution_count": 95,
   "metadata": {},
   "outputs": [
    {
     "data": {
      "text/plain": [
       "Text(0.5,1,'01, day 30')"
      ]
     },
     "execution_count": 95,
     "metadata": {},
     "output_type": "execute_result"
    },
    {
     "data": {
      "image/png": "[encoded data removed]",
      "text/plain": [
       "<matplotlib.figure.Figure at 0x120cc7d68>"
      ]
     },
     "metadata": {},
     "output_type": "display_data"
    }
   ],
   "source": [
    "ssh_contour_30=plt.contourf(ssh_30[:,:])\n",
    "bar=plt.colorbar(ssh_contour_10)\n",
    "plt.title('01, day 30')\n"
   ]
  },
  {
   "cell_type": "code",
   "execution_count": 14,
   "metadata": {
    "collapsed": true
   },
   "outputs": [],
   "source": [
    "import matplotlib as mpl\n",
    "import matplotlib\n",
    "import numpy as np\n",
    "import matplotlib.pyplot as plt\n",
    "import pandas as pd\n",
    "from IPython.display import display, Math, Latex\n",
    "from numpy.random import rand\n",
    "from pylab import rcParams, pcolor, show,colorbar, xticks, yticks, title, figure\n",
    "from IPython.display import Image"
   ]
  },
  {
   "cell_type": "code",
   "execution_count": 15,
   "metadata": {
    "collapsed": true
   },
   "outputs": [],
   "source": [
    "mpl.rcParams.update(mpl.rcParamsDefault)\n",
    "%matplotlib inline\n",
    "rcParams['figure.figsize'] = (11, 6.5)\n",
    "\n",
    "def fig5():\n",
    "    fig,ax=plt.subplots(1,1)\n",
    "    ax.plot(x,y,'.')\n",
    "    ax.set_xlabel('Temp (Celsius)');ax.set_ylabel('Salinity (psu)')"
   ]
  },
  {
   "cell_type": "markdown",
   "metadata": {},
   "source": [
    "## unfold 2-D array to 1-D, pick 3 latitudes and all the longitudes along with them, and then draw scatter plot"
   ]
  },
  {
   "cell_type": "code",
   "execution_count": 16,
   "metadata": {},
   "outputs": [
    {
     "data": {
      "image/png": "[encoded data removed]",
      "text/plain": [
       "<matplotlib.figure.Figure at 0x118d94eb8>"
      ]
     },
     "metadata": {},
     "output_type": "display_data"
    }
   ],
   "source": [
    "x=np.ma.concatenate([temp[0,10,0,:],temp[0,10,1,:]])\n",
    "y=np.ma.concatenate([sali[0,10,0,:],sali[0,10,1,:]])\n",
    "n=2\n",
    "for n in range(2,3):\n",
    "    x=np.ma.concatenate([x,temp[0,10,n,:]])\n",
    "    y=np.ma.concatenate([y,sali[0,10,n,:]])\n",
    "    \n",
    "fig5()"
   ]
  },
  {
   "cell_type": "code",
   "execution_count": 17,
   "metadata": {},
   "outputs": [
    {
     "name": "stdout",
     "output_type": "stream",
     "text": [
      "752\n",
      "752\n"
     ]
    }
   ],
   "source": [
    "x = [s for s in x if s > -9999]\n",
    "print(len(x))\n",
    "y = [s for s in y if s > -9999]\n",
    "print(len(y))"
   ]
  },
  {
   "cell_type": "markdown",
   "metadata": {},
   "source": [
    "## get histogram for temp/salinity"
   ]
  },
  {
   "cell_type": "code",
   "execution_count": 18,
   "metadata": {},
   "outputs": [
    {
     "data": {
      "text/plain": [
       "Text(0.5,1,'Temperature histogram, # of bins = 40')"
      ]
     },
     "execution_count": 18,
     "metadata": {},
     "output_type": "execute_result"
    },
    {
     "data": {
      "image/png": "[encoded data removed]",
      "text/plain": [
       "<matplotlib.figure.Figure at 0x10ccd2e80>"
      ]
     },
     "metadata": {},
     "output_type": "display_data"
    }
   ],
   "source": [
    "temp_hist=plt.hist(x,40)\n",
    "plt.title('Temperature histogram, # of bins = 40')"
   ]
  },
  {
   "cell_type": "code",
   "execution_count": 19,
   "metadata": {},
   "outputs": [
    {
     "data": {
      "text/plain": [
       "Text(0.5,1,'Salinity histogram, # of bins = 40')"
      ]
     },
     "execution_count": 19,
     "metadata": {},
     "output_type": "execute_result"
    },
    {
     "data": {
      "image/png": "[encoded data removed]",
      "text/plain": [
       "<matplotlib.figure.Figure at 0x118ec0b00>"
      ]
     },
     "metadata": {},
     "output_type": "display_data"
    }
   ],
   "source": [
    "sali_hist=plt.hist(y,40)\n",
    "plt.title('Salinity histogram, # of bins = 40')"
   ]
  },
  {
   "cell_type": "code",
   "execution_count": 20,
   "metadata": {
    "collapsed": true
   },
   "outputs": [],
   "source": [
    "from numpy import sqrt, pi, exp\n",
    "\n",
    "def getKdeGaussianAni(data,totalframes=100, showpts=True):\n",
    "    fig = figure()\n",
    "    \n",
    "    # Let's say 10000 points for the whole thing\n",
    "    width = data.max() - data.min()\n",
    "    left, right = data.min(), data.min() + (width)\n",
    "    left, right = left - (totalframes/100)*width, right + (totalframes/100)*width\n",
    "    \n",
    "    ax = axes(xlim=(left,right),ylim=(-0.1,2))\n",
    "    line, = ax.plot([], [], lw=2)\n",
    "    if showpts:\n",
    "        junk = plot(data,ones_like(data)*0.1,'go')\n",
    "\n",
    "    \n",
    "    numpts = 10000\n",
    "    x = linspace(left,right,numpts)\n",
    "    \n",
    "    dx = (right-left)/(numpts-1)\n",
    "    \n",
    "    def init():\n",
    "        line.set_data([], [])\n",
    "        return line,\n",
    "    \n",
    "    def gaussian(x,sigma,mu):\n",
    "        # Why isn't this defined somewhere?! It must be!\n",
    "        return (1/sqrt(2*pi*sigma**2)) *  exp(-((x-mu)**2)/(2*sigma**2))\n",
    "    \n",
    "    def animate(i):\n",
    "        y = zeros(10000)\n",
    "        kernelwidth = .02*width*(i+1)\n",
    "        kernelpts = int(kernelwidth/dx)\n",
    "        kernel = gaussian(linspace(-3,3,kernelpts),1,0)\n",
    "        #kernel = ones(kernelpts)\n",
    "        for d in data:\n",
    "            center = d - left\n",
    "            centerpts = int(center/dx)\n",
    "            bottom = centerpts - int(kernelpts/2)\n",
    "            top = centerpts+int(kernelpts/2)\n",
    "            if top - bottom < kernelpts: top = top + 1\n",
    "            if top - bottom > kernelpts: top = top - 1\n",
    "            y[bottom:top] += kernel\n",
    "            \n",
    "        # y /= kernelwidth # Area under the kernel does not vary linearly with its width \n",
    "        ax.set_xlim(x[where(y>0)[0][0]],x[where(y>0)[0][-1]])\n",
    "        line.set_data(x,y)\n",
    "# Normalize the y axis for the data range\n",
    "        ax.set_ylim(min(0,y.min()),1.1*y.max())\n",
    "        #title('ymin %s ymax %s'%(y.min(),y.max()))\n",
    "\n",
    "    \n",
    "        #sleep(0.1)\n",
    "        return line,\n",
    "    ani = animation.FuncAnimation(fig, animate, init_func=init,\n",
    "                                  frames=totalframes, repeat=False)\n",
    "    return ani"
   ]
  },
  {
   "cell_type": "markdown",
   "metadata": {},
   "source": [
    "## use Gaussian kernal to fit the distributions"
   ]
  },
  {
   "cell_type": "code",
   "execution_count": 21,
   "metadata": {},
   "outputs": [
    {
     "ename": "NameError",
     "evalue": "name 'sns' is not defined",
     "output_type": "error",
     "traceback": [
      "\u001b[0;31m---------------------------------------------------------------------------\u001b[0m",
      "\u001b[0;31mNameError\u001b[0m                                 Traceback (most recent call last)",
      "\u001b[0;32m<ipython-input-21-44f6dee27e97>\u001b[0m in \u001b[0;36m<module>\u001b[0;34m()\u001b[0m\n\u001b[0;32m----> 1\u001b[0;31m \u001b[0max\u001b[0m \u001b[0;34m=\u001b[0m \u001b[0msns\u001b[0m\u001b[0;34m.\u001b[0m\u001b[0mkdeplot\u001b[0m\u001b[0;34m(\u001b[0m\u001b[0mx\u001b[0m\u001b[0;34m,\u001b[0m \u001b[0mshade\u001b[0m\u001b[0;34m=\u001b[0m\u001b[0;32mTrue\u001b[0m\u001b[0;34m,\u001b[0m \u001b[0mbw\u001b[0m\u001b[0;34m=\u001b[0m\u001b[0;36m0.2\u001b[0m\u001b[0;34m,\u001b[0m\u001b[0mcolor\u001b[0m\u001b[0;34m=\u001b[0m\u001b[0;34m\"b\"\u001b[0m\u001b[0;34m)\u001b[0m\u001b[0;34m\u001b[0m\u001b[0m\n\u001b[0m\u001b[1;32m      2\u001b[0m \u001b[0mplt\u001b[0m\u001b[0;34m.\u001b[0m\u001b[0mtitle\u001b[0m\u001b[0;34m(\u001b[0m\u001b[0;34m\"Temperature distribution fit, bw=0.2\"\u001b[0m\u001b[0;34m)\u001b[0m\u001b[0;34m\u001b[0m\u001b[0m\n",
      "\u001b[0;31mNameError\u001b[0m: name 'sns' is not defined"
     ]
    }
   ],
   "source": [
    "ax = sns.kdeplot(x, shade=True, bw=0.2,color=\"b\")\n",
    "plt.title(\"Temperature distribution fit, bw=0.2\")"
   ]
  },
  {
   "cell_type": "code",
   "execution_count": null,
   "metadata": {
    "collapsed": true
   },
   "outputs": [],
   "source": [
    "ax = sns.kdeplot(y, shade=True, bw=0.006,color=\"b\")\n",
    "plt.title(\"Salinity distribution fit, bw=0.006\")"
   ]
  },
  {
   "cell_type": "code",
   "execution_count": null,
   "metadata": {
    "collapsed": true
   },
   "outputs": [],
   "source": []
  }
 ],
 "metadata": {
  "kernelspec": {
   "display_name": "Python 3",
   "language": "python",
   "name": "python3"
  },
  "language_info": {
   "codemirror_mode": {
    "name": "ipython",
    "version": 3
   },
   "file_extension": ".py",
   "mimetype": "text/x-python",
   "name": "python",
   "nbconvert_exporter": "python",
   "pygments_lexer": "ipython3",
   "version": "3.6.3"
  }
 },
 "nbformat": 4,
 "nbformat_minor": 2
}
