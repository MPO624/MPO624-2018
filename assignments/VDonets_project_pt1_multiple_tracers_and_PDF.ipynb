{
 "cells": [
  {
   "cell_type": "code",
   "execution_count": 96,
   "metadata": {},
   "outputs": [],
   "source": [
    "import os\n",
    "import sys\n",
    "import numpy as np\n",
    "import matplotlib\n",
    "import matplotlib.pyplot as plt\n",
    "import matplotlib.mlab as mlab\n",
    "from mpl_toolkits.mplot3d import Axes3D\n",
    "from netCDF4 import Dataset\n",
    "from mpl_toolkits import mplot3d\n"
   ]
  },
  {
   "cell_type": "code",
   "execution_count": 97,
   "metadata": {},
   "outputs": [],
   "source": [
    "#Reading Data\n",
    "data_direc = (r\"C:\\\\Users\\\\Atlas\\\\Desktop\\\\Data_for_Python\\\\CONTRAST\\\\\")\n",
    "\n",
    "nc_file = Dataset(data_direc+'CONTRAST-AWAS-MERGE_GV_R6_COMPOSITE.nc')"
   ]
  },
  {
   "cell_type": "code",
   "execution_count": 98,
   "metadata": {},
   "outputs": [
    {
     "name": "stdout",
     "output_type": "stream",
     "text": [
      "odict_keys(['Time', 'Flight_Number', 'Julian_Date', 'UTC_YYYY', 'UTC_MO', 'UTC_DD', 'Time_UTC', 'FLT_HH', 'FLT_MM', 'FLT_SS', 'UTC_HH', 'UTC_MM', 'UTC_SS', 'Profile_Number', 'C2H6_Ethane', 'C2H2_Ethyne', 'C3H8_Propane', 'C4H10_Isobutane', 'C4H10_nButane', 'C5H12_Isopentane', 'C5H12_nPentane', 'C5H8_Isoprene', 'C6H6_Benzene', 'OCS_Carbonyl_sulfide', 'C2H6S_Dimethyl_sulfide', 'CCl2F2_CFC_12', 'CCl3F_CFC_11', 'CCl2FCCl2F_CFC112', 'CCl3CClF2_CFC_112a', 'C2Cl3F3_CFC_113', 'C2Cl2F4_CFC_114', 'CHClF2_HCFC_22', 'CH3CClF2_HCFC_142b', 'CH3CCl2F_HCFC_141b', 'CH2FCF3_HFC_134a', 'C4H5F5_HFC365mfc', 'CH3Cl_Methyl_chloride', 'CH3Br_Methyl_bromide', 'CH3I_Methyl_iodide', 'CH2Cl2_Methylene_chloride', 'CHCl3_Chloroform', 'CH3CCl3_Methyl_chloroform', 'CCl4_Carbon_tetrachloride', 'C2H4Cl2_1_2_Dichloroethane', 'C2HCl3_Trichloroethylene', 'C2Cl4_Tetrachloroethylene', 'C6H5Cl_Chlorobenzene', 'CBrClF2_Halon_1211', 'C2Br2F4_Halon_2402', 'CH2BrCl_Bromochloromethane', 'CH2Br2_Methylene_bromide', 'CHBrCl2_Bromodichloromethane', 'CHBr2Cl_Dibromochloromethane', 'CHBr3_Bromoform', 'CH3ONO2_Methyl_nitrate', 'C2H5ONO2_Ethyl_nitrate', 'C3H7NO3_Isopropyl_nitrate', 'C4H9NO3_2_Butyl_nitrate', 'C4H9NO3_n_Butyl_nitrate', 'C5H11NO3_3_pentyl_nitrate', 'C5H11NO3_2_pentyl_nitrate', 'CO', 'CO2', 'Methane', 'BrO_DOAS', 'delta_BrO', 'BrO', 'HOBr+Br2', 'Br_key', 'N2O5', 'O3-O2+O1D', 'NO2-NO+O3P', 'H2O2-2OH', 'N2O5-NO3+NO2', 'HNO2-OH+NO', 'HNO3-OH+NO2', 'HNO4-HO2+NO2', 'CH2O-H+HCO', 'CH2O-H2+CO', 'CH3CHO-CH3+HCO', 'C2H5CHO-C2H5+HCO', 'CH3OOH-CH3O+OH', 'CH3ONO2-CH3O+NO2', 'CH3CH2ONO2-CH3CH2O+NO2', 'CH3COOONO2PAN-CH3COOO+NO2', 'CH3COOONO2PAN-CH3COO+NO3', 'CH2=CCH3CHO-Products', 'CH3COCH=CH2-Products', 'CH3COCH3-CH3CO+CH3', 'CH3COCH2CH3-CH3CO+CH2CH3', 'CHOCHO-HCO+HCO', 'CHOCHO-H2+2CO', 'CHOCHO-CH2O+CO', 'CH3COCHO-CH3CO+HCO', 'Cl2-Cl+Cl', 'ClO-Cl+O3P', 'ClNO2-Cl+NO2', 'ClONO-Cl+NO2', 'ClONO2-Cl+NO3', 'ClONO2-ClO+NO2', 'Br2-Br+Br', 'BrO-Br+O', 'HOBr-OH+Br', 'BrNO-Br+NO', 'BrONO-Br+NO2', 'BrONO-BrO+NO', 'BrNO2-Br+NO2', 'BrONO2-BrO+NO2', 'BrONO2-Br+NO3', 'BrCl-Br+Cl', 'CHBr3-Products', 'CH3CH2CH2CHO-C3H7+HCO', 'CH3CH2CH2CHO-C2H4+CH2CHOH', 'Br2O-Products', 'HCHO_ISAF', 'NO_pptv', 'NO2_pptv', 'O3_ppbv', 'HCHO', 'HCHO_err', 'CFC114', 'CFC114_err', 'HCN', 'HCN_err', 'Acetaldehyde', 'Acetaldehyde_err', 'CFC11', 'CFC11_err', 'Propanal', 'Propanal_err', 'Acetone', 'Acetone_err', 'CH3CN', 'CH3CN_err', 'Butanal', 'Butanal_err', 'C3H8', 'CH2O', 'OCS', 'CFC12', 'i_Butane', 'n_Butane', 'Methyl_Chloride', 'i_Butene_1_Butene', 'Methyl_Bromide', 'i_Pentane', 'n_Pentane', 'Methanol', 'Ethanol', 'Acrolein', 'Isoprene', 'Methyl_Iodide', 'DMS', 'Bromoethane', 'CFC113', 'x2_Methylpentane', 'x3_Methylpentane', 'n_Hexane', 'Dichloromethane', 'x2_Propanol', 'MethylNitrate', 'PAN', 'MACR', 'MVK', 'x3_MethylFuran', 'MEK', 'Ethyl_Iodide', 'MTBE', 'Chloroform', 'Carbon_Tetrachloride', 'Bromochloromethane', 'EthylNitrate', 'I_PropylNitrate', 'MBO', 'Benzene', 'n_Heptane', 'Pentanal', 'x2_Pentanone', 'x3_Pentanone', 'Bromodichloromethane', 'Dibromomethane', 'Chloroiodomethane', 'tert_ButylNitrate', 'I_ButylNitrate', 'x2_ButylNitrate_n_ButylNitrate', 'x2_PentylNitrate_3_PentylNitrate', 'Toluene', 'Ethylbenzene_m_p_Xylene', 'o_Xylene', 'Tetrachloroethylene', 'Dibromochloromethane', 'Bromoiodomethane', 'Chlorobenzene', 'Bromoform', 'Alpha_Pinene', 'Camphene', 'Beta_Pinene', 'd_Limonene_3_Carene', 'Alpha_Terpinene', 'Para_Cymene', 'x1_2_4_Trimethylbenzene', 'x1_3_5_Trimethylbenzene', 'x1_2_3_Trimethylbenzene', 'Diiodomethane', 'x1_3_Dichlorobenzene', 'x1_2_Dichlorobenzene', 'TASX', 'THDG', 'ATX', 'CONCV_VXL', 'DPXC', 'PSXC', 'RHUM', 'VMR_VXL', 'SOLZE', 'PLWCC', 'CONCD_RWOO', 'CONCU_RWOI', 'CONCU100_RWOI', 'CONCU500_RWOI', 'DBARD_RWOO', 'DBARU_RWOI', 'DBZD_RWOO', 'GGLAT', 'GGLON', 'GGALT', 'LONC', 'LATC', 'PALT', 'PALTF', 'THETA', 'THETAE', 'UIC', 'VIC', 'WIC'])\n"
     ]
    }
   ],
   "source": [
    "print(nc_file.variables.keys())"
   ]
  },
  {
   "cell_type": "code",
   "execution_count": 99,
   "metadata": {},
   "outputs": [],
   "source": [
    "time = nc_file.variables['Time'][:]\n",
    "lat = nc_file.variables['GGLAT'][:]\n",
    "lon = nc_file.variables['GGLON'][:]\n",
    "altitude = nc_file.variables['GGALT'][:]\n",
    "ethane = nc_file.variables['C2H6_Ethane'][:]\n",
    "ethyne = nc_file.variables['C2H2_Ethyne'][:]\n",
    "propane = nc_file.variables['C3H8_Propane'][:]\n",
    "isobutane = nc_file.variables['C4H10_Isobutane'][:]\n",
    "nbutane = nc_file.variables['C4H10_nButane'][:]\n",
    "isopentane = nc_file.variables['C5H12_Isopentane'][:]\n",
    "npentane = nc_file.variables['C5H12_nPentane'][:]\n",
    "CCl4 = nc_file.variables['CCl4_Carbon_tetrachloride'][:]\n",
    "CH2Cl2 = nc_file.variables['CH2Cl2_Methylene_chloride'][:]\n",
    "CHCl3 = nc_file.variables['CHCl3_Chloroform'][:]\n",
    "CH3Cl = nc_file.variables['CH3Cl_Methyl_chloride'][:]\n",
    "CH3Br = nc_file.variables['CH3Br_Methyl_bromide'][:]\n",
    "C2Cl4 = nc_file.variables['C2Cl4_Tetrachloroethylene'][:]\n",
    "CHBr3 = nc_file.variables['CHBr3_Bromoform'][:]\n",
    "CH2Br2 = nc_file.variables['CH2Br2_Methylene_bromide'][:]\n",
    "CO = nc_file.variables['CO'][:]\n",
    "O3 = nc_file.variables['O3_ppbv'][:]\n",
    "\n",
    "ethane1 = ethane[~numpy.isnan(ethane)]\n",
    "ethyne1 = ethyne[~numpy.isnan(ethyne)]\n",
    "propane1 = propane[~numpy.isnan(propane)]\n",
    "isobutane1 = isobutane[~numpy.isnan(isobutane)]\n",
    "nbutane1 = nbutane[~numpy.isnan(nbutane)]\n",
    "isopentane1 = [~numpy.isnan(isopentane)]\n",
    "npentane1 = [~numpy.isnan(npentane)]\n",
    "CCl4_1 = CCl4[~numpy.isnan(CCl4)]\n",
    "CH2Cl2_1 = CH2Cl2[~numpy.isnan(CH2Cl2)]\n",
    "CHCl3_1 = CHCl3[~numpy.isnan(CHCl3)]\n",
    "CH3Cl_1 = CH3Cl[~numpy.isnan(CH3Cl)]\n",
    "CH3Br_1 = CH3Br[~numpy.isnan(CH3Br)]\n",
    "C2Cl4_1 = C2Cl4[~numpy.isnan(C2Cl4)]\n",
    "CHBr3_1 = CHBr3[~numpy.isnan(CHBr3)]\n",
    "CO_1 = CO[~numpy.isnan(CO)]\n",
    "O3_1 = O3[~numpy.isnan(O3)]"
   ]
  },
  {
   "cell_type": "code",
   "execution_count": 100,
   "metadata": {},
   "outputs": [],
   "source": [
    "# print (ethane1)"
   ]
  },
  {
   "cell_type": "code",
   "execution_count": 101,
   "metadata": {},
   "outputs": [
    {
     "data": {
      "image/png": "[encoded data removed]",
      "text/plain": [
       "<Figure size 432x288 with 3 Axes>"
      ]
     },
     "metadata": {},
     "output_type": "display_data"
    }
   ],
   "source": [
    "data1=C2Cl4\n",
    "data2=CHCl3\n",
    "altitude=altitude\n",
    "\n",
    "fig, ax1 = plt.subplots()\n",
    "\n",
    "color = 'tab:red'\n",
    "ax1.set_xlabel('CHCl3', color=color)\n",
    "ax1.set_ylabel('altitude')\n",
    "m='8'\n",
    "ax1.plot(data1, altitude, marker=m, color=color, linestyle ='None')\n",
    "ax1.tick_params(axis='x', labelcolor=color)\n",
    "\n",
    "ax2 = ax1.twiny()  # instantiate a second axes that shares the same x-axis\n",
    "\n",
    "color = 'tab:blue'\n",
    "ax2.set_xlabel('C2Cl4', color=color)  # setting ax2 label\n",
    "ax2.plot(data2, altitude, marker=m, color=color, linestyle ='None')\n",
    "ax2.tick_params(axis='x', labelcolor=color)\n",
    "\n",
    "\n",
    "ax3=ax2.twinx()\n",
    "ax3.plot(data2, altitude, marker=m, color=color, linestyle ='None')\n",
    "\n",
    "fig.tight_layout()  # otherwise the right y-label is slightly clipped\n",
    "plt.show()"
   ]
  },
  {
   "cell_type": "code",
   "execution_count": 136,
   "metadata": {},
   "outputs": [
    {
     "data": {
      "text/plain": [
       "515.54965034965039"
      ]
     },
     "execution_count": 136,
     "metadata": {},
     "output_type": "execute_result"
    }
   ],
   "source": [
    "numpy.mean(ethane1)"
   ]
  },
  {
   "cell_type": "code",
   "execution_count": 137,
   "metadata": {},
   "outputs": [
    {
     "data": {
      "text/plain": [
       "204.05596718702688"
      ]
     },
     "execution_count": 137,
     "metadata": {},
     "output_type": "execute_result"
    }
   ],
   "source": [
    "numpy.std(ethane1)"
   ]
  },
  {
   "cell_type": "code",
   "execution_count": 138,
   "metadata": {},
   "outputs": [
    {
     "data": {
      "text/plain": [
       "65.083215796897036"
      ]
     },
     "execution_count": 138,
     "metadata": {},
     "output_type": "execute_result"
    }
   ],
   "source": [
    "numpy.mean(ethyne1)"
   ]
  },
  {
   "cell_type": "code",
   "execution_count": 139,
   "metadata": {},
   "outputs": [
    {
     "data": {
      "text/plain": [
       "40.511157290010843"
      ]
     },
     "execution_count": 139,
     "metadata": {},
     "output_type": "execute_result"
    }
   ],
   "source": [
    "numpy.std(ethyne1)"
   ]
  },
  {
   "cell_type": "code",
   "execution_count": 141,
   "metadata": {},
   "outputs": [
    {
     "data": {
      "image/png": "[encoded data removed]",
      "text/plain": [
       "<Figure size 432x288 with 1 Axes>"
      ]
     },
     "metadata": {},
     "output_type": "display_data"
    }
   ],
   "source": [
    "mu = 516 # mean of isobutane\n",
    "sigma = 204 # standard deviation of isobutane\n",
    "x = ethane1\n",
    "\n",
    "num_bins = 10\n",
    "# the histogram of the data\n",
    "n, bins, patches = plt.hist(x, num_bins, facecolor='green', alpha=0.5)\n",
    "\n",
    "\n",
    "mu2 = 61 # mean of n-butane\n",
    "sigma2 = 41 # standard deviation of n-butane\n",
    "y = ethyne1\n",
    "num_bins2 = 6\n",
    "n, bins, patches = plt.hist(y, num_bins2, facecolor='blue', alpha=0.5)\n",
    "\n",
    "plt.xlabel('i-butane (pptv)')\n",
    "plt.ylabel('Frequency')\n",
    "\n",
    "plt.xlabel('i-butane (pptv)')\n",
    "plt.ylabel('Frequency')\n",
    "\n",
    "# Tweak spacing to prevent clipping of ylabel\n",
    "plt.subplots_adjust(left=0.15)"
   ]
  },
  {
   "cell_type": "code",
   "execution_count": null,
   "metadata": {},
   "outputs": [],
   "source": []
  }
 ],
 "metadata": {
  "kernelspec": {
   "display_name": "Python 3",
   "language": "python",
   "name": "python3"
  },
  "language_info": {
   "codemirror_mode": {
    "name": "ipython",
    "version": 3
   },
   "file_extension": ".py",
   "mimetype": "text/x-python",
   "name": "python",
   "nbconvert_exporter": "python",
   "pygments_lexer": "ipython3",
   "version": "3.5.5"
  }
 },
 "nbformat": 4,
 "nbformat_minor": 2
}
