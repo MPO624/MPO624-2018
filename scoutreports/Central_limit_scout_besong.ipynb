{
 "cells": [
  {
   "cell_type": "markdown",
   "metadata": {
    "slideshow": {
     "slide_type": "slide"
    }
   },
   "source": [
    "<a name=\"top\"></a>\n",
    "<div style=\"width:1000 px\">\n",
    "\n",
    "<div style=\"float:right; width:98 px; height:98px;\">\n",
    "<img src=\"https://cdn.miami.edu/_assets-common/images/system/um-logo-gray-bg.png\" alt=\"Miami Logo\" style=\"height: 98px;\">\n",
    "</div>\n",
    "\n",
    "# MPO 624: Central Limit Theorem \n",
    "\n",
    "### A Scout Report By Kayla Besong\n",
    "\n",
    "###### Last modified 02/19/2018"
   ]
  },
  {
   "cell_type": "markdown",
   "metadata": {
    "slideshow": {
     "slide_type": "slide"
    }
   },
   "source": [
    "# What is it?\n",
    "\n",
    "<a data-flickr-embed=\"true\"  href=\"https://www.flickr.com/photos/besong11/39669530884/in/dateposted-public/\" title=\"CLT1\"><img src=\"https://farm5.staticflickr.com/4621/39669530884_0865da9ec4_b.jpg\" width=\"1024\" height=\"313\" alt=\"CLT1\"></a><script async src=\"//embedr.flickr.com/assets/client-code.js\" charset=\"utf-8\"></script>"
   ]
  },
  {
   "cell_type": "markdown",
   "metadata": {
    "slideshow": {
     "slide_type": "subslide"
    }
   },
   "source": [
    "<a data-flickr-embed=\"true\"  href=\"https://www.flickr.com/photos/besong11/39483200785/in/dateposted-public/\" title=\"CLT2\"><img src=\"https://farm5.staticflickr.com/4673/39483200785_497bee40a5_b.jpg\" width=\"1024\" height=\"704\" alt=\"CLT2\"></a><script async src=\"//embedr.flickr.com/assets/client-code.js\" charset=\"utf-8\"></script>"
   ]
  },
  {
   "cell_type": "markdown",
   "metadata": {
    "slideshow": {
     "slide_type": "notes"
    }
   },
   "source": [
    "###### Sources: \n",
    "Devore, J. L., Farnum, N. R., & Doi, J. (2014). Applied statistics for engineers and scientists. Stamford, CT: Cengage Learning."
   ]
  },
  {
   "attachments": {},
   "cell_type": "markdown",
   "metadata": {
    "slideshow": {
     "slide_type": "slide"
    }
   },
   "source": [
    "## What does this actually mean?\n",
    "\n",
    "<a data-flickr-embed=\"true\"  href=\"https://www.flickr.com/photos/besong11/25508146407/in/dateposted-public/\" title=\"yea\"><img src=\"https://farm5.staticflickr.com/4719/25508146407_1a1844d42f_b.jpg\" width=\"680\" height=\"445\" alt=\"yea\"></a><script async src=\"//embedr.flickr.com/assets/client-code.js\" charset=\"utf-8\"></script>\n"
   ]
  },
  {
   "cell_type": "markdown",
   "metadata": {
    "slideshow": {
     "slide_type": "subslide"
    }
   },
   "source": [
    "### If X1, X2, ..., Xn are INDEPENDENT and identically distributed  random variables with a finite mean (u) and variance (sigma**2), then as n approaches infinity, an approximation, Y, becomes:\n",
    "<a data-flickr-embed=\"true\"  href=\"https://www.flickr.com/photos/besong11/39669531054/in/dateposted-public/\" title=\"CLT3 11.26.34 PM\"><img src=\"https://farm5.staticflickr.com/4701/39669531054_cf1fe79e28_b.jpg\" width=\"1024\" height=\"199\" alt=\"CLT3 11.26.34 PM\"></a><script async src=\"//embedr.flickr.com/assets/client-code.js\" charset=\"utf-8\"></script>\n",
    "### Converging to a normal distribution with a mean (Nu) and a variance (N*(sigma**2))\n"
   ]
  },
  {
   "cell_type": "markdown",
   "metadata": {
    "slideshow": {
     "slide_type": "slide"
    }
   },
   "source": [
    "## Further simplifed: it does not matter what the underlying distribution of X is, you can  approximate much more complicated distributions such as Poisson and Gamma to be normal as long as N is assumed to be large (N > 30 is the rule). "
   ]
  },
  {
   "cell_type": "markdown",
   "metadata": {
    "slideshow": {
     "slide_type": "subslide"
    }
   },
   "source": [
    "### You can then follow Z ~ N(0,1), using standard normal (z) tables to 'shortcut' what otherwise could be much more difficult: \n",
    "\n",
    "<a data-flickr-embed=\"true\"  href=\"https://www.flickr.com/photos/besong11/39669531304/in/dateposted-public/\" title=\"CLT4\"><img src=\"https://farm5.staticflickr.com/4676/39669531304_23e57e94c8_b.jpg\" width=\"1024\" height=\"391\" alt=\"CLT4\"></a><script async src=\"//embedr.flickr.com/assets/client-code.js\" charset=\"utf-8\"></script>\n",
    "\n",
    "<a data-flickr-embed=\"true\"  href=\"https://www.flickr.com/photos/besong11/39669531174/in/dateposted-public/\" title=\"CLT5\"><img src=\"https://farm5.staticflickr.com/4605/39669531174_d57cafa561_b.jpg\" width=\"1024\" height=\"136\" alt=\"CLT5\"></a><script async src=\"//embedr.flickr.com/assets/client-code.js\" charset=\"utf-8\"></script>\n"
   ]
  }
 ],
 "metadata": {
  "celltoolbar": "Slideshow",
  "kernelspec": {
   "display_name": "Python 3",
   "language": "python",
   "name": "python3"
  },
  "language_info": {
   "codemirror_mode": {
    "name": "ipython",
    "version": 3
   },
   "file_extension": ".py",
   "mimetype": "text/x-python",
   "name": "python",
   "nbconvert_exporter": "python",
   "pygments_lexer": "ipython3",
   "version": "3.6.4"
  }
 },
 "nbformat": 4,
 "nbformat_minor": 2
}
